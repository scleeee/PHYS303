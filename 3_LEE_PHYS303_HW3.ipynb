{
  "cells": [
    {
      "cell_type": "code",
      "execution_count": 1,
      "metadata": {
        "id": "uAEOjBFB9gLG"
      },
      "outputs": [],
      "source": [
        "import numpy as np\n",
        "import pandas as pd\n",
        "import matplotlib.pyplot as plt\n",
        "from random import choice"
      ]
    },
    {
      "cell_type": "code",
      "execution_count": 2,
      "metadata": {
        "id": "IT92XWAj9gLH"
      },
      "outputs": [],
      "source": [
        "def sigmoid(x):\n",
        "    return 1.0/(1.0 + np.exp(-x))\n",
        "\n",
        "def sigmoid_pr(z):\n",
        "    return z * (1 - z)\n",
        "\n",
        "def tanh_prime(x):\n",
        "    return 1.0 - pow(np.tanh(x), 2)\n",
        "\n",
        "def rmse(preds, target):\n",
        "    return np.sqrt(np.mean((preds - target)**2))"
      ]
    },
    {
      "cell_type": "code",
      "execution_count": 6,
      "metadata": {
        "id": "MYdRKe_D9gLH"
      },
      "outputs": [],
      "source": [
        "class NeuralNetwork:\n",
        "    def __init__(self, layers, activation='sigmoid'):\n",
        "        # layers = [2,2,1] --> [2 inputs, 2 neurons for hidden layer 1, 1 neuron for the last layer]\n",
        "        self.layers = layers\n",
        "        if activation == 'sigmoid':\n",
        "          self.activation = sigmoid\n",
        "          self.activation_pr = sigmoid_pr\n",
        "        elif activation == 'tanh':\n",
        "          self.activation = np.tanh\n",
        "          self.activation_pr = tanh_prime\n",
        "\n",
        "        # Initialize W; randomly generate w per layer\n",
        "        self.W = []\n",
        "        for l in range(len(layers) - 2):                                    # num_layer - 2 --> the output layer will not have weights; the last hidden layer will be initialized outside the loop\n",
        "            self.W.append(np.random.normal(size=[layers[l]+1,               # layers[l]+1   --> adds weight for the bias node of the l'th layer\n",
        "                                            layers[l]+1]))                  # layers[l+1]+1 --> adds weight for the bias node of the (l+1)'th layer\n",
        "\n",
        "        self.W.append(np.random.normal(size=[layers[-2]+1,                  # layers[-2]+1  --> adds weight for the bias node to last hidden layer\n",
        "                                        layers[-1]]))                       # layers[-1]    --> omits weight for the bias node in the output layer\n",
        "\n",
        "    def predict(self, X, add_bias=True):\n",
        "        layers = self.layers\n",
        "        \n",
        "        if add_bias:\n",
        "            test_data = []\n",
        "            for i in range(len(X)):                                         # iterate over b inputs\n",
        "                test_data.append(np.concatenate((X[i], np.array([1]))))     # [0, 0], [1] -concatenate-> array([0, 0, 1])\n",
        "            A = []\n",
        "            A.append(test_data)\n",
        "        else:\n",
        "            A = []\n",
        "            A.append(X)\n",
        "\n",
        "        # Forward prop\n",
        "        for l in range(len(layers) - 1):                                    # num_layers-1  --> a_0 was initialized above\n",
        "            A.append(self.activation(np.dot(A[l], self.W[l])))              # append new output to A\n",
        "\n",
        "        # Update the output to check error\n",
        "        z = A[-1]\n",
        "\n",
        "        return z, A      \n",
        "\n",
        "    def fit(self, X, y, learning_rate=0.2, steps=100000, tol=1e-2):\n",
        "        # np.random.seed(21)\n",
        "        layers = self.layers\n",
        "        error_hist = []\n",
        "\n",
        "        # Initialize training_data; combine X, bias, and y\n",
        "        training_data = []\n",
        "        for i in range(layers[0]):                                          # iterate over b inputs\n",
        "            training_data.append((np.concatenate((X[i], np.array([1]))),    # [0, 0], [1] -concatenate-> array([0, 0, 1])\n",
        "                                                  y[0][i]))                 # [0, 1, 1], 0 --append----> (array([0, 0, 1]), 0)\n",
        "\n",
        "        # Begin training\n",
        "        for step in range(steps):\n",
        "\n",
        "            # Select data to train on x_train and target\n",
        "            x_train, target = choice(training_data)\n",
        "            z, A = self.predict(X=x_train, add_bias=False)\n",
        "\n",
        "            error = (target - z)\n",
        "            error_hist.append(error)\n",
        "\n",
        "            if np.abs(error) <= tol:\n",
        "              print(f'Converged after {step} steps')\n",
        "              break\n",
        "\n",
        "            # Backprop\n",
        "            for l in reversed(range(len(layers) - 1)):                                      # iterates through l = 2, 1, 0\n",
        "                if l == (len(layers)-2):                                                    # if on the last layer L-1, initialize delta_L-1\n",
        "                    delta_l = error * self.activation_pr(z)                                 # delta1\n",
        "                else:                                                                       # update current delta_l\n",
        "                    delta_l = self.activation_pr(A[l+1]) * np.dot(self.W[l+1], delta_l)     # must confirm if these are the right deltas\n",
        "\n",
        "                self.W[l] += learning_rate * np.atleast_2d(delta_l) * np.atleast_2d(A[l]).T\n",
        "\n",
        "        return self.W, error_hist\n",
        "\n",
        "    \"\"\"\n",
        "    def find_RMSE_error(self, X, y):\n",
        "    def visual_NN_boundaries(self, Nsamp=2000):\n",
        "    \"\"\""
      ]
    },
    {
      "cell_type": "code",
      "execution_count": 42,
      "metadata": {
        "colab": {
          "base_uri": "https://localhost:8080/"
        },
        "id": "LOQFlxvP9gLI",
        "outputId": "43a97748-91d8-4e30-9db9-9f1d710043ee"
      },
      "outputs": [
        {
          "name": "stdout",
          "output_type": "stream",
          "text": [
            "Converged after 155 steps\n",
            "error: [-8.95561949e-05]\n"
          ]
        },
        {
          "data": {
            "image/png": "[encoded data removed]",
            "text/plain": [
              "<Figure size 640x480 with 1 Axes>"
            ]
          },
          "metadata": {},
          "output_type": "display_data"
        }
      ],
      "source": [
        "X = np.array([[0,0],\n",
        "            [0,1],\n",
        "            [1,0],\n",
        "            [1,1]])\n",
        "y = np.array([[0, 1, 1, 0]])\n",
        "\n",
        "n_steps = 10000\n",
        "\n",
        "nn = NeuralNetwork([2,2,1], activation='tanh')\n",
        "dubs, error_hist = nn.fit(X,y, learning_rate=.2, steps=n_steps, tol=1e-4)\n",
        "print(f'error: {error_hist[-1]}')\n",
        "plt.plot(np.linspace(0,len(error_hist),len(error_hist)),error_hist, '.', alpha=0.9)\n",
        "plt.show()"
      ]
    },
    {
      "cell_type": "code",
      "execution_count": 44,
      "metadata": {},
      "outputs": [
        {
          "data": {
            "text/plain": [
              "array([[ 8.95561949e-05],\n",
              "       [ 9.73629170e-01],\n",
              "       [-7.01841897e-01],\n",
              "       [ 7.38269877e-01],\n",
              "       [ 1.47666574e-02],\n",
              "       [ 7.35509501e-01]])"
            ]
          },
          "execution_count": 44,
          "metadata": {},
          "output_type": "execute_result"
        }
      ],
      "source": [
        "X_test = np.array([[0,0],\n",
        "            [0,1],\n",
        "            [1,0],\n",
        "            [1,1],\n",
        "            [0.01,0.01],\n",
        "            [.99,.99]])\n",
        "y = np.array([[0, 1, 1, 0]])\n",
        "\n",
        "preds, _ = nn.predict(X_test)\n",
        "preds"
      ]
    }
  ],
  "metadata": {
    "colab": {
      "provenance": []
    },
    "kernelspec": {
      "display_name": "Python 3 (ipykernel)",
      "language": "python",
      "name": "python3"
    },
    "language_info": {
      "codemirror_mode": {
        "name": "ipython",
        "version": 3
      },
      "file_extension": ".py",
      "mimetype": "text/x-python",
      "name": "python",
      "nbconvert_exporter": "python",
      "pygments_lexer": "ipython3",
      "version": "3.12.0"
    }
  },
  "nbformat": 4,
  "nbformat_minor": 0
}
