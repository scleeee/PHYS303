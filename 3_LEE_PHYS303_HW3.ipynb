{
  "cells": [
    {
      "cell_type": "code",
      "execution_count": 4,
      "metadata": {
        "id": "uAEOjBFB9gLG"
      },
      "outputs": [],
      "source": [
        "import numpy as np\n",
        "import pandas as pd\n",
        "import matplotlib.pyplot as plt\n",
        "from random import choice"
      ]
    },
    {
      "cell_type": "code",
      "execution_count": 5,
      "metadata": {
        "id": "IT92XWAj9gLH"
      },
      "outputs": [],
      "source": [
        "def sigmoid(x):\n",
        "    '''The logistic function as the sigmoid'''\n",
        "    return 1.0/(1.0 + np.exp(-x))\n",
        "\n",
        "def sigmoid_pr(z):\n",
        "    '''derivative of the logistic function'''\n",
        "    return z * (1 - z)\n",
        "\n",
        "def tanh_prime(x):\n",
        "    '''derivative of tanh'''\n",
        "    return 1.0 - pow(np.tanh(x), 2)"
      ]
    },
    {
      "cell_type": "code",
      "execution_count": 64,
      "metadata": {
        "id": "MYdRKe_D9gLH"
      },
      "outputs": [],
      "source": [
        "class NeuralNetwork:\n",
        "    def __init__(self, layers, activation='sigmoid'):\n",
        "        # layers = [2,2,1] --> [2 inputs, 2 neurons for hidden layer 1, 1 neuron for the last layer]\n",
        "        self.layers = layers\n",
        "        if activation == 'sigmoid':\n",
        "          self.activation = sigmoid\n",
        "          self.activation_pr = sigmoid_pr\n",
        "        elif activation == 'tanh':\n",
        "          self.activation = np.tanh\n",
        "          self.activation_pr = tanh_prime\n",
        "\n",
        "        # Initialize W; randomly generate w per layer\n",
        "        self.W = []\n",
        "        for l in range(len(layers) - 2):                                    # num_layer - 2 --> the output layer will not have weights; the last hidden layer will be initialized outside the loop\n",
        "            self.W.append(np.random.normal(size=[layers[l]+1,               # layers[l]+1   --> adds weight for the bias node of the l'th layer\n",
        "                                            layers[l]+1]))                  # layers[l+1]+1 --> adds weight for the bias node of the (l+1)'th layer\n",
        "\n",
        "        self.W.append(np.random.normal(size=[layers[-2]+1,                  # layers[-2]+1  --> adds weight for the bias node to last hidden layer\n",
        "                                        layers[-1]]))                       # layers[-1]    --> omits weight for the bias node in the output layer\n",
        "\n",
        "    def predict(self, X, add_bias=True):\n",
        "        np.random.seed(21)\n",
        "        layers = self.layers\n",
        "\n",
        "        # Add bias to X if add_bias=True\n",
        "        if add_bias:\n",
        "            training_data = []\n",
        "            for i in range(layers[0]):                                          # iterate over b inputs\n",
        "                training_data.append((np.concatenate((X[i], np.array([1])))))   # [0, 0], [1] -concatenate-> array([0, 0, 1])\n",
        "            A = []\n",
        "            A.append(choice(training_data))\n",
        "        else:\n",
        "            A = []\n",
        "            A.append(X)\n",
        "\n",
        "        # Forward prop\n",
        "        for l in range(len(layers) - 1):                                    # num_layers-1  --> a_0 was initialized above\n",
        "            A.append(self.activation(np.dot(A[l], self.W[l])))              # append new output to A\n",
        "\n",
        "        # Update the output to check error\n",
        "        z = A[-1]\n",
        "        return z, A       \n",
        "\n",
        "    def fit(self, X, y, learning_rate=0.2, steps=100000, tol=1e-2):\n",
        "        np.random.seed(21)\n",
        "        layers = self.layers\n",
        "        error_hist = []\n",
        "        W = self.W\n",
        "\n",
        "        # Initialize training_data; combine X, bias, and y\n",
        "        training_data = []\n",
        "        for i in range(layers[0]):                                          # iterate over b inputs\n",
        "            training_data.append((np.concatenate((X[i], np.array([1]))),    # [0, 0], [1] -concatenate-> array([0, 0, 1])\n",
        "                                                  y[0][i]))                 # [0, 1, 1], 0 --append----> (array([0, 0, 1]), 0)\n",
        "\n",
        "        # Begin training\n",
        "        for step in range(steps):\n",
        "\n",
        "            # Select data to train on x_train and target\n",
        "            x_train, target = choice(training_data)\n",
        "            z, A = self.predict(X=x_train, add_bias=False)\n",
        "\n",
        "            # Calculate error\n",
        "            error = (target - z)\n",
        "            error_hist.append(error)\n",
        "\n",
        "            if np.abs(error) <= tol:\n",
        "              print(f'Converged after {step} steps')\n",
        "              break\n",
        "\n",
        "            # Backprop\n",
        "            # --------\n",
        "            for l in reversed(range(len(layers) - 1)):                            # iterates through l = 2, 1, 0\n",
        "                # print(f\"| Backprop for the {l}th layer |\")\n",
        "\n",
        "                # update delta_l\n",
        "                if l == (len(layers)-2):                                     # if on the last layer L-1, initialize delta_L-1\n",
        "                    delta_l = error * self.activation_pr(z)                         # delta1\n",
        "                    # print(f'\\tdelta_1: {delta_l}')\n",
        "                else:                                                       # update current delta_l\n",
        "                    delta_l = self.activation_pr(A[l+1]) * np.dot(W[l+1], delta_l)  # must confirm if these are the right deltas\n",
        "                    # print(f'\\tnew delta: {delta_l}')\n",
        "\n",
        "                W[l] += learning_rate * np.atleast_2d(delta_l) * np.atleast_2d(A[l]).T\n",
        "\n",
        "        return W, error_hist\n",
        "\n",
        "    # def predict(self,x):\n",
        "    #     # one epoch is going through each element in the dataset\n",
        "    #     x_test, target = choice(x)\n",
        "\n",
        "    #     W = self.W\n",
        "    #     A = [x_test]\n",
        "    #     layers = self.layers\n",
        "    #     rmse = []\n",
        "\n",
        "    #     # Forward prop\n",
        "    #     # ------------\n",
        "    #     for l in range(len(layers) - 1):                                              # num_layers-1  --> a_0 was initialized above\n",
        "    #         A.append(self.activation(np.dot(A[l], W[l])))                       # append new output to A\n",
        "\n",
        "    #     # Update the output to check error\n",
        "    #     z = A[-1]\n",
        "\n",
        "    #     # Calculate error\n",
        "    #     error = (target - z)\n",
        "    #     rmse.append(error)\n",
        "\n",
        "    #     return z\n",
        "\n",
        "    \"\"\"\n",
        "    def find_RMSE_error(self, X, y):\n",
        "    def predict(self, x):\n",
        "    def visual_NN_boundaries(self, Nsamp=2000):\n",
        "    \"\"\""
      ]
    },
    {
      "cell_type": "code",
      "execution_count": 65,
      "metadata": {
        "colab": {
          "base_uri": "https://localhost:8080/"
        },
        "id": "LOQFlxvP9gLI",
        "outputId": "43a97748-91d8-4e30-9db9-9f1d710043ee"
      },
      "outputs": [
        {
          "name": "stdout",
          "output_type": "stream",
          "text": [
            "Converged after 120 steps\n",
            "error: [-0.00096086]\n"
          ]
        },
        {
          "data": {
            "image/png": "[encoded data removed]",
            "text/plain": [
              "<Figure size 640x480 with 1 Axes>"
            ]
          },
          "metadata": {},
          "output_type": "display_data"
        }
      ],
      "source": [
        "X = np.array([[0,0],\n",
        "            [0,1],\n",
        "            [1,0],\n",
        "            [1,1]])\n",
        "y = np.array([[0, 1, 1, 0]])\n",
        "\n",
        "n_steps = 10000\n",
        "\n",
        "nn = NeuralNetwork([2,2,1], activation='tanh')\n",
        "dubs, error_hist = nn.fit(X,y, learning_rate=.2, steps=n_steps, tol=1e-3)\n",
        "print(f'error: {error_hist[-1]}')\n",
        "plt.plot(np.linspace(0,len(error_hist),len(error_hist)),error_hist, '.', alpha=0.9)\n",
        "plt.show()"
      ]
    },
    {
      "cell_type": "code",
      "execution_count": 66,
      "metadata": {},
      "outputs": [
        {
          "ename": "ValueError",
          "evalue": "zero-dimensional arrays cannot be concatenated",
          "output_type": "error",
          "traceback": [
            "\u001b[0;31m---------------------------------------------------------------------------\u001b[0m",
            "\u001b[0;31mValueError\u001b[0m                                Traceback (most recent call last)",
            "Cell \u001b[0;32mIn[66], line 7\u001b[0m\n\u001b[1;32m      1\u001b[0m X \u001b[38;5;241m=\u001b[39m np\u001b[38;5;241m.\u001b[39marray([[\u001b[38;5;241m0\u001b[39m,\u001b[38;5;241m0\u001b[39m],\n\u001b[1;32m      2\u001b[0m             [\u001b[38;5;241m0\u001b[39m,\u001b[38;5;241m1\u001b[39m],\n\u001b[1;32m      3\u001b[0m             [\u001b[38;5;241m1\u001b[39m,\u001b[38;5;241m0\u001b[39m],\n\u001b[1;32m      4\u001b[0m             [\u001b[38;5;241m1\u001b[39m,\u001b[38;5;241m1\u001b[39m]])\n\u001b[1;32m      5\u001b[0m X \u001b[38;5;241m=\u001b[39m np\u001b[38;5;241m.\u001b[39marray([\u001b[38;5;241m1\u001b[39m,\u001b[38;5;241m0\u001b[39m])\n\u001b[0;32m----> 7\u001b[0m \u001b[43mnn\u001b[49m\u001b[38;5;241;43m.\u001b[39;49m\u001b[43mpredict\u001b[49m\u001b[43m(\u001b[49m\u001b[43mX\u001b[49m\u001b[43m)\u001b[49m\n",
            "Cell \u001b[0;32mIn[64], line 29\u001b[0m, in \u001b[0;36mNeuralNetwork.predict\u001b[0;34m(self, X, add_bias)\u001b[0m\n\u001b[1;32m     27\u001b[0m training_data \u001b[38;5;241m=\u001b[39m []\n\u001b[1;32m     28\u001b[0m \u001b[38;5;28;01mfor\u001b[39;00m i \u001b[38;5;129;01min\u001b[39;00m \u001b[38;5;28mrange\u001b[39m(layers[\u001b[38;5;241m0\u001b[39m]):                                          \u001b[38;5;66;03m# iterate over b inputs\u001b[39;00m\n\u001b[0;32m---> 29\u001b[0m     training_data\u001b[38;5;241m.\u001b[39mappend((\u001b[43mnp\u001b[49m\u001b[38;5;241;43m.\u001b[39;49m\u001b[43mconcatenate\u001b[49m\u001b[43m(\u001b[49m\u001b[43m(\u001b[49m\u001b[43mX\u001b[49m\u001b[43m[\u001b[49m\u001b[43mi\u001b[49m\u001b[43m]\u001b[49m\u001b[43m,\u001b[49m\u001b[43m \u001b[49m\u001b[43mnp\u001b[49m\u001b[38;5;241;43m.\u001b[39;49m\u001b[43marray\u001b[49m\u001b[43m(\u001b[49m\u001b[43m[\u001b[49m\u001b[38;5;241;43m1\u001b[39;49m\u001b[43m]\u001b[49m\u001b[43m)\u001b[49m\u001b[43m)\u001b[49m\u001b[43m)\u001b[49m))   \u001b[38;5;66;03m# [0, 0], [1] -concatenate-> array([0, 0, 1])\u001b[39;00m\n\u001b[1;32m     30\u001b[0m A \u001b[38;5;241m=\u001b[39m []\n\u001b[1;32m     31\u001b[0m A\u001b[38;5;241m.\u001b[39mappend(choice(training_data))\n",
            "\u001b[0;31mValueError\u001b[0m: zero-dimensional arrays cannot be concatenated"
          ]
        }
      ],
      "source": [
        "X = np.array([[0,0],\n",
        "            [0,1],\n",
        "            [1,0],\n",
        "            [1,1]])\n",
        "X = np.array([1,0])\n",
        "\n",
        "nn.predict(X)"
      ]
    }
  ],
  "metadata": {
    "colab": {
      "provenance": []
    },
    "kernelspec": {
      "display_name": "Python 3 (ipykernel)",
      "language": "python",
      "name": "python3"
    },
    "language_info": {
      "codemirror_mode": {
        "name": "ipython",
        "version": 3
      },
      "file_extension": ".py",
      "mimetype": "text/x-python",
      "name": "python",
      "nbconvert_exporter": "python",
      "pygments_lexer": "ipython3",
      "version": "3.12.0"
    }
  },
  "nbformat": 4,
  "nbformat_minor": 0
}
