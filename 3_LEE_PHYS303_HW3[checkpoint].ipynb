{
  "cells": [
    {
      "cell_type": "code",
      "execution_count": 84,
      "metadata": {
        "id": "uAEOjBFB9gLG"
      },
      "outputs": [],
      "source": [
        "import numpy as np\n",
        "import pandas as pd\n",
        "import matplotlib.pyplot as plt\n",
        "from random import choice"
      ]
    },
    {
      "cell_type": "code",
      "execution_count": 86,
      "metadata": {
        "id": "IT92XWAj9gLH"
      },
      "outputs": [],
      "source": [
        "def sigmoid(x):\n",
        "    '''The logistic function as the sigmoid'''\n",
        "    return 1.0/(1.0 + np.exp(-x))\n",
        "\n",
        "def sigmoid_pr(z):\n",
        "    '''derivative of the logistic function'''\n",
        "    return z * (1 - z)\n",
        "\n",
        "def tanh_prime(x):\n",
        "    '''derivative of tanh'''\n",
        "    return 1.0 - pow(np.tanh(x), 2)"
      ]
    },
    {
      "cell_type": "code",
      "execution_count": 112,
      "metadata": {
        "id": "MYdRKe_D9gLH"
      },
      "outputs": [],
      "source": [
        "class NeuralNetwork:\n",
        "    def __init__(self, layers, activation='sigmoid'):\n",
        "        # layers = [2,2,1] --> [2 inputs, 2 neurons for hidden layer 1, 1 neuron for the last layer]\n",
        "        self.layers = layers\n",
        "        if activation == 'sigmoid':\n",
        "          self.activation = sigmoid\n",
        "          self.activation_pr = sigmoid_pr`\n",
        "        elif activation == 'tanh':\n",
        "          self.activation = np.tanh\n",
        "          self.activation_pr = tanh_prime\n",
        "\n",
        "        # Initialize W; randomly generate w per layer\n",
        "        self.W = []\n",
        "        for l in range(len(layers) - 2):                                    # num_layer - 2 --> the output layer will not have weights; the last hidden layer will be initialized outside the loop\n",
        "            self.W.append(np.random.normal(size=[layers[l]+1,               # layers[l]+1   --> adds weight for the bias node of the l'th layer\n",
        "                                            layers[l]+1]))                  # layers[l+1]+1 --> adds weight for the bias node of the (l+1)'th layer\n",
        "\n",
        "        self.W.append(np.random.normal(size=[layers[-2]+1,                  # layers[-2]+1  --> adds weight for the bias node to last hidden layer\n",
        "                                        layers[-1]]))                       # layers[-1]    --> omits weight for the bias node in the output layer\n",
        "        print(self.W)\n",
        "\n",
        "    def fit(self, X, y, learning_rate=0.2, steps=100000, tol=1e-2):\n",
        "        np.random.seed(21)\n",
        "        layers = self.layers\n",
        "        num_layers = len(layers)\n",
        "        range_all_layers = range(len(layers) - 1)\n",
        "        error_hist = []\n",
        "        W = self.W\n",
        "\n",
        "        # Initialize training_data; combine X, bias, and y\n",
        "        training_data = []\n",
        "        for i in range(layers[0]):                                          # iterate over b inputs\n",
        "            training_data.append((np.concatenate((X[i], np.array([1]))),    # [0, 0], [1] -concatenate-> array([0, 0, 1])\n",
        "                                                  y[0][i]))                 # [0, 1, 1], 0 --append----> (array([0, 0, 1]), 0)\n",
        "\n",
        "        # Begin training\n",
        "        for step in range(steps):\n",
        "\n",
        "            # Select data to train on x_train and target\n",
        "            x_train, target = choice(training_data)\n",
        "\n",
        "            # A list of node outputs, starting with x_train as the a_0'th layer\n",
        "            A = [x_train]\n",
        "\n",
        "            # Forward prop\n",
        "            # ------------\n",
        "            for l in range_all_layers:                                      # num_layers-1  --> a_0 was initialized above\n",
        "                A.append(self.activation(np.dot(A[l], W[l])))               # append new output to A\n",
        "\n",
        "            # Update the output to check error\n",
        "            z = A[-1]\n",
        "\n",
        "            # Calculate error\n",
        "            error = (target - z)\n",
        "            error_hist.append(error)\n",
        "\n",
        "            if np.abs(error) <= tol:\n",
        "              print(f'Converged after {step} epochs')\n",
        "              break\n",
        "\n",
        "            # Backprop\n",
        "            # --------\n",
        "            for l in reversed(range_all_layers):                            # iterates through l = 2, 1, 0\n",
        "                # print(f\"| Backprop for the {l}th layer |\")\n",
        "\n",
        "                # update delta_l\n",
        "                if l == (num_layers-2):                                     # if on the last layer L-1, initialize delta_L-1\n",
        "                    delta_l = error * self.activation_pr(z)                         # delta1\n",
        "                    # print(f'\\tdelta_1: {delta_l}')\n",
        "                else:                                                       # update current delta_l\n",
        "                    delta_l = self.activation_pr(A[l+1]) * np.dot(W[l+1], delta_l)  # must confirm if these are the right deltas\n",
        "                    # print(f'\\tnew delta: {delta_l}')\n",
        "\n",
        "                W[l] += learning_rate * np.atleast_2d(delta_l) * np.atleast_2d(A[l]).T\n",
        "\n",
        "        return W, error_hist\n",
        "\n",
        "    def predict(self,x):\n",
        "      # one epoch is going through each element in the dataset\n",
        "      x_test, target = choice(x)\n",
        "      W = self.W\n",
        "      A = [x_test]\n",
        "      layers = self.layers\n",
        "      rmse = []\n",
        "\n",
        "      # Forward prop\n",
        "      # ------------\n",
        "      for l in range(len(layers) - 1):                                              # num_layers-1  --> a_0 was initialized above\n",
        "          A.append(self.activation(np.dot(A[l], W[l])))                       # append new output to A\n",
        "\n",
        "      # Update the output to check error\n",
        "      z = A[-1]\n",
        "\n",
        "      # Calculate error\n",
        "      error = (target - z)\n",
        "      rmse.append(error)\n",
        "\n",
        "      return z\n",
        "\n",
        "    # def find_RMSE_error(self, X, y):\n",
        "    #   self.W\n",
        "\n",
        "\n",
        "    #   num = 0\n",
        "    #   ysum = 0\n",
        "\n",
        "    #   for x in dubs[1]:\n",
        "    #       num += pow(x,2)\n",
        "    #   for yvalues in y:\n",
        "    #       ysum += yvalues()\n",
        "\n",
        "    #   num = np.sqrt(num/ysum)\n",
        "    #   return sum\n",
        "\n",
        "    \"\"\"\n",
        "    def find_RMSE_error(self, X, y):\n",
        "    def predict(self, x):\n",
        "    def visual_NN_boundaries(self, Nsamp=2000):\n",
        "    \"\"\""
      ]
    },
    {
      "cell_type": "code",
      "execution_count": 111,
      "metadata": {
        "id": "LOQFlxvP9gLI",
        "outputId": "43a97748-91d8-4e30-9db9-9f1d710043ee",
        "colab": {
          "base_uri": "https://localhost:8080/"
        }
      },
      "outputs": [
        {
          "output_type": "stream",
          "name": "stdout",
          "text": [
            "[array([[-0.05196425, -0.11119605,  1.0417968 ],\n",
            "       [-1.25673929,  0.74538768, -1.71105376],\n",
            "       [-0.20586438, -0.23457129,  1.12814404]]), array([[-0.01262595],\n",
            "       [-0.61320029],\n",
            "       [ 1.3736885 ]])]\n",
            "error: [0.00051743]\n"
          ]
        }
      ],
      "source": [
        "X = np.array([[0,0],\n",
        "            [0,1],\n",
        "            [1,0],\n",
        "            [1,1]])\n",
        "y = np.array([[0, 1, 1, 0]])\n",
        "\n",
        "n_steps = 10000\n",
        "\n",
        "nn = NeuralNetwork([2,2,1], activation='tanh') #__init__\n",
        "dubs, error_hist = nn.fit(X,y, learning_rate=.2, steps=n_steps)\n",
        "print(f'error: {error_hist[-1]}')"
      ]
    },
    {
      "cell_type": "code",
      "source": [
        "nn.find_RMSE_error()"
      ],
      "metadata": {
        "id": "xGJ2IL3ngW3V"
      },
      "execution_count": null,
      "outputs": []
    },
    {
      "cell_type": "code",
      "execution_count": 108,
      "metadata": {
        "id": "mIYq4eCz9gLI",
        "outputId": "1c2e92eb-aee6-412a-95b7-9b616cd18468",
        "colab": {
          "base_uri": "https://localhost:8080/",
          "height": 430
        }
      },
      "outputs": [
        {
          "output_type": "display_data",
          "data": {
            "text/plain": [
              "<Figure size 640x480 with 1 Axes>"
            ],
            "image/png": "[encoded data removed]"
          },
          "metadata": {}
        }
      ],
      "source": [
        "plt.plot(np.linspace(0,n_steps,n_steps),error_hist, '.', alpha=0.9)\n",
        "plt.show()"
      ]
    }
  ],
  "metadata": {
    "kernelspec": {
      "display_name": "Python 3 (ipykernel)",
      "language": "python",
      "name": "python3"
    },
    "language_info": {
      "codemirror_mode": {
        "name": "ipython",
        "version": 3
      },
      "file_extension": ".py",
      "mimetype": "text/x-python",
      "name": "python",
      "nbconvert_exporter": "python",
      "pygments_lexer": "ipython3",
      "version": "3.12.0"
    },
    "colab": {
      "provenance": []
    }
  },
  "nbformat": 4,
  "nbformat_minor": 0
}